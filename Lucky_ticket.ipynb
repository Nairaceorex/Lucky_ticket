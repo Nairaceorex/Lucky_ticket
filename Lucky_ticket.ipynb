{
 "cells": [
  {
   "cell_type": "code",
   "execution_count": 107,
   "metadata": {},
   "outputs": [
    {
     "name": "stdout",
     "output_type": "stream",
     "text": [
      "Enter number ticket:2222\n"
     ]
    }
   ],
   "source": [
    "scan = False\n",
    "while scan == False:\n",
    "    ticket = str(input(\"Enter number ticket:\"))\n",
    "    if len(ticket)<3 or len(ticket)>12:\n",
    "        print(\"The ticket number must be between 3 and 12 characters long!\")\n",
    "    else:\n",
    "        scan=True\n",
    "    "
   ]
  },
  {
   "cell_type": "code",
   "execution_count": 108,
   "metadata": {},
   "outputs": [],
   "source": [
    "# to do\n",
    "mid = 0\n",
    "if len(ticket)%2!=0:\n",
    "    mid = len(ticket)//2 + 1\n",
    "    part_1 = ticket[0:mid-1]\n",
    "    part_2 = ticket[mid:len(ticket)+1]\n",
    "else:\n",
    "    mid = len(ticket)//2\n",
    "    part_1 = ticket[0:mid]\n",
    "    part_2 = ticket[mid:len(ticket)+1]"
   ]
  },
  {
   "cell_type": "code",
   "execution_count": 109,
   "metadata": {},
   "outputs": [],
   "source": [
    "# to do\n",
    "arr1 = [None]*len(part_1)\n",
    "arr2 = [None]*len(part_2)\n",
    "for i in range(len(part_1)):\n",
    "    arr1[i] = int(part_1[i])\n",
    "for i in range(len(part_2)):\n",
    "    arr2[i] = int(part_2[i])"
   ]
  },
  {
   "cell_type": "code",
   "execution_count": 110,
   "metadata": {},
   "outputs": [
    {
     "name": "stdout",
     "output_type": "stream",
     "text": [
      "Yeah, it`s lucky ticket!!!\n"
     ]
    }
   ],
   "source": [
    "if sum(arr1)==sum(arr2):\n",
    "    print(\"Yeah, it`s lucky ticket!!!\")\n",
    "else:\n",
    "    print(\"Maybe get lucky next time)\")"
   ]
  },
  {
   "cell_type": "code",
   "execution_count": null,
   "metadata": {},
   "outputs": [],
   "source": []
  }
 ],
 "metadata": {
  "kernelspec": {
   "display_name": "Python 3",
   "language": "python",
   "name": "python3"
  },
  "language_info": {
   "codemirror_mode": {
    "name": "ipython",
    "version": 3
   },
   "file_extension": ".py",
   "mimetype": "text/x-python",
   "name": "python",
   "nbconvert_exporter": "python",
   "pygments_lexer": "ipython3",
   "version": "3.7.7"
  }
 },
 "nbformat": 4,
 "nbformat_minor": 4
}
